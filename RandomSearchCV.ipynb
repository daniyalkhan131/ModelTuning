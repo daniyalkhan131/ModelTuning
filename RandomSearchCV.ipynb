{
  "nbformat": 4,
  "nbformat_minor": 0,
  "metadata": {
    "colab": {
      "provenance": []
    },
    "kernelspec": {
      "name": "python3",
      "display_name": "Python 3"
    },
    "language_info": {
      "name": "python"
    }
  },
  "cells": [
    {
      "cell_type": "code",
      "execution_count": 3,
      "metadata": {
        "id": "qDKRLZYu7Zk1"
      },
      "outputs": [],
      "source": [
        "import pandas as pd\n",
        "df = pd.read_csv('train_titanic.csv')"
      ]
    },
    {
      "cell_type": "code",
      "source": [
        "# use single brackets around \"Name\" because CountVectorizer expects 1-D input\n",
        "X = df['Name']\n",
        "y = df['Survived']"
      ],
      "metadata": {
        "id": "mK6_BqGZ7gCn"
      },
      "execution_count": 4,
      "outputs": []
    },
    {
      "cell_type": "code",
      "source": [
        "from sklearn.feature_extraction.text import CountVectorizer\n",
        "from sklearn.naive_bayes import MultinomialNB\n",
        "from sklearn.pipeline import make_pipeline"
      ],
      "metadata": {
        "id": "EVzVaqEY7iWv"
      },
      "execution_count": 5,
      "outputs": []
    },
    {
      "cell_type": "code",
      "source": [
        "pipe = make_pipeline(CountVectorizer(), MultinomialNB())"
      ],
      "metadata": {
        "id": "Dtb-9oJM7rM6"
      },
      "execution_count": 6,
      "outputs": []
    },
    {
      "cell_type": "code",
      "source": [
        "# cross-validate the pipeline using default parameters\n",
        "from sklearn.model_selection import cross_val_score\n",
        "cross_val_score(pipe, X, y, cv=5, scoring='accuracy').mean()"
      ],
      "metadata": {
        "colab": {
          "base_uri": "https://localhost:8080/"
        },
        "id": "9H2R9bmC7t3T",
        "outputId": "b18caffc-82fe-40f4-d3b0-a0d767891aef"
      },
      "execution_count": 7,
      "outputs": [
        {
          "output_type": "execute_result",
          "data": {
            "text/plain": [
              "0.8001820350260498"
            ]
          },
          "metadata": {},
          "execution_count": 7
        }
      ]
    },
    {
      "cell_type": "code",
      "source": [
        "# specify parameter values to search (use a distribution for any continuous parameters)\n",
        "import scipy as sp\n",
        "params = {}\n",
        "params['countvectorizer__min_df'] = [1, 2, 3, 4]\n",
        "params['countvectorizer__lowercase'] = [True, False]\n",
        "params['multinomialnb__alpha'] = sp.stats.uniform(scale=1)\n",
        "#in this we can define hyperparameter range with some distribution rather\n",
        "#than explicitly define values in array and by chance or randomly it can\n",
        "#opt that value which give best result in model and that is not there in\n",
        "#list we define."
      ],
      "metadata": {
        "id": "aithVm8L72AC"
      },
      "execution_count": 8,
      "outputs": []
    },
    {
      "cell_type": "code",
      "source": [
        "# try \"n_iter\" random combinations of those parameter values\n",
        "from sklearn.model_selection import RandomizedSearchCV\n",
        "rand = RandomizedSearchCV(pipe, params, n_iter=10, cv=5, scoring='accuracy', random_state=1)\n",
        "rand.fit(X, y);"
      ],
      "metadata": {
        "id": "7ISx2W6b8GyR"
      },
      "execution_count": 9,
      "outputs": []
    },
    {
      "cell_type": "code",
      "source": [
        "# what was the best score found during the search?\n",
        "rand.best_score_"
      ],
      "metadata": {
        "colab": {
          "base_uri": "https://localhost:8080/"
        },
        "id": "PKqefAhg8K0E",
        "outputId": "e0e9829f-f381-49d4-a521-923149d1303c"
      },
      "execution_count": 10,
      "outputs": [
        {
          "output_type": "execute_result",
          "data": {
            "text/plain": [
              "0.8080534806352395"
            ]
          },
          "metadata": {},
          "execution_count": 10
        }
      ]
    },
    {
      "cell_type": "code",
      "source": [
        "# which combination of parameters produced the best score?\n",
        "rand.best_params_"
      ],
      "metadata": {
        "colab": {
          "base_uri": "https://localhost:8080/"
        },
        "id": "0WDssOP68Mne",
        "outputId": "ef961ad3-db44-4110-b9e3-c967944f4eb3"
      },
      "execution_count": 11,
      "outputs": [
        {
          "output_type": "execute_result",
          "data": {
            "text/plain": [
              "{'countvectorizer__lowercase': False,\n",
              " 'countvectorizer__min_df': 3,\n",
              " 'multinomialnb__alpha': 0.1981014890848788}"
            ]
          },
          "metadata": {},
          "execution_count": 11
        }
      ]
    },
    {
      "cell_type": "code",
      "source": [],
      "metadata": {
        "id": "DRfgDIZs8N0H"
      },
      "execution_count": null,
      "outputs": []
    }
  ]
}